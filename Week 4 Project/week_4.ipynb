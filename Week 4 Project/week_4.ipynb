{
 "cells": [
  {
   "cell_type": "markdown",
   "metadata": {},
   "source": [
    "### 1). Write a Python program to check whether a string is a palindrome or not using a stack.\n"
   ]
  },
  {
   "cell_type": "markdown",
   "metadata": {},
   "source": [
    "Stack is an abstract data type whose behavior is defined according to Last In First Out (LIFO) principle.\n",
    "\n",
    "That is, it is meant to work more like a stack of objects, whereby the first item in a stack is always at the bottom and the last item added at the top, that is, items are placed on top of each other.\n",
    "\n",
    "Stack is defined by five operations as below;\n",
    " - **Push**: Used for adding items in the stack.\n",
    " - **Pop**: Used for removing items in the stack.\n",
    " - **Top**: Used for checking the top most item in the stack, typically, the last item to be added on the stack.\n",
    " - **Is_Empty**: Checks if the stack is empty.\n",
    " - **Is_Full**: Checks if the stack is full. This applies in case the stack was defined as a fixed-size stack\n",
    "\n"
   ]
  },
  {
   "cell_type": "code",
   "execution_count": 11,
   "metadata": {},
   "outputs": [
    {
     "name": "stdout",
     "output_type": "stream",
     "text": [
      "77\n"
     ]
    }
   ],
   "source": [
    "# Implementing a Stack Data Structure \n",
    "\n",
    "class Stack: \n",
    "    def __init__(self):\n",
    "        self.data = [] \n",
    "\n",
    "    def is_empty(self):\n",
    "        \"\"\" \n",
    "        Checks if the stack is empty \n",
    "        Returns a bool\n",
    "        \"\"\" \n",
    "        return len(self.data) == 0\n",
    "\n",
    "    def push(self, value): \n",
    "        \"\"\"\n",
    "        Adds an item to the stack\n",
    "        \"\"\"\n",
    "        self.data.append(value) \n",
    "\n",
    "    def pop(self):\n",
    "        \"\"\"\n",
    "        Removes an item from the stack\n",
    "        Condition: The stack must not be empty\n",
    "        \"\"\" \n",
    "        if not self.is_empty():\n",
    "            return self.data.pop()\n",
    "        return \"Stack is Empty\"\n",
    "\n",
    "    def top(self):\n",
    "        \"\"\"\n",
    "        Returns the top most item in the stack if the stack is not empty\n",
    "        \"\"\" \n",
    "        if not self.is_empty():\n",
    "            return self.data[-1]\n",
    "        return \"Stack is Empty\"\n",
    "\n",
    "my_stack = Stack()\n",
    "my_stack.push(28)\n",
    "my_stack.push(44)\n",
    "my_stack.push(77)\n",
    "print(my_stack.pop())"
   ]
  },
  {
   "cell_type": "markdown",
   "metadata": {},
   "source": [
    "Using the stack data type to determine is a sring is palidrome \n",
    "\n",
    "We will be testing below palidrome words \n",
    "1. Level\n",
    "2. Radar\n",
    "3. Civic\n",
    "4. Rotor\n",
    "5. Madam\n",
    "6. Racecar\n",
    "7. Refer\n",
    "8. Deified\n",
    "9. Repaper\n",
    "10. Reviver"
   ]
  },
  {
   "cell_type": "code",
   "execution_count": 36,
   "metadata": {},
   "outputs": [],
   "source": [
    "# creates a function to check if a word is palidrome \n",
    "# We shall stack every character in palidrome words and  the store the poped\n",
    "# letters in an output string \n",
    "# the compare the two\n",
    "\n",
    "def is_palidrome(input_word):\n",
    "    input_word = str(input_word).lower() # Make sure the input param is str and Force it as lower case \n",
    "\n",
    "    word_stack = Stack() # Defines a stack where word letters will be stacked \n",
    "    \n",
    "    output_word = \"\" \n",
    "\n",
    "    for char in input_word: # Stack all the characters from the input_word\n",
    "        word_stack.push(char) \n",
    "    \n",
    "    while True: # pops every character in the stack and add the characters to \"output_word\" until the stack is empty\n",
    "        if not word_stack.is_empty():\n",
    "            output_word = output_word + word_stack.pop() \n",
    "        else:\n",
    "            break\n",
    "\n",
    "    return input_word == output_word # If the two strings are similar, then then word is palidromic\n",
    "    "
   ]
  },
  {
   "cell_type": "code",
   "execution_count": 42,
   "metadata": {},
   "outputs": [
    {
     "data": {
      "text/plain": [
       "False"
      ]
     },
     "execution_count": 42,
     "metadata": {},
     "output_type": "execute_result"
    }
   ],
   "source": [
    "# Test with one word\n",
    "is_palidrome(\"mom\")\n",
    "is_palidrome(1234)"
   ]
  },
  {
   "cell_type": "code",
   "execution_count": 41,
   "metadata": {},
   "outputs": [
    {
     "name": "stdout",
     "output_type": "stream",
     "text": [
      "Mom is a Palidrome word?: True\n",
      "123 is a Palidrome word?: False\n",
      "Level is a Palidrome word?: True\n",
      "Civic is a Palidrome word?: True\n",
      "Civic is a Palidrome word?: True\n",
      "Madam is a Palidrome word?: True\n",
      "racecar is a Palidrome word?: True\n",
      "Refer is a Palidrome word?: True\n",
      "Aibohphobia is a Palidrome word?: True\n",
      "palidrome is a Palidrome word?: False\n"
     ]
    }
   ],
   "source": [
    "# Testing the solution with a list of words\n",
    "\n",
    "word_list = [\"Mom\", 123, \"Level\", \"Civic\", \"Civic\", \"Madam\", \"racecar\", \"Refer\", \"Aibohphobia\", \"palidrome\"] \n",
    "\n",
    "for word in word_list:\n",
    "\n",
    "    print(\"{} is a Palidrome word?: {}\".format(word, is_palidrome(word))) "
   ]
  },
  {
   "cell_type": "code",
   "execution_count": null,
   "metadata": {},
   "outputs": [],
   "source": []
  }
 ],
 "metadata": {
  "kernelspec": {
   "display_name": "venv",
   "language": "python",
   "name": "python3"
  },
  "language_info": {
   "codemirror_mode": {
    "name": "ipython",
    "version": 3
   },
   "file_extension": ".py",
   "mimetype": "text/x-python",
   "name": "python",
   "nbconvert_exporter": "python",
   "pygments_lexer": "ipython3",
   "version": "3.11.2"
  }
 },
 "nbformat": 4,
 "nbformat_minor": 2
}
