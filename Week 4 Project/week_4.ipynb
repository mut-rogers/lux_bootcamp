{
 "cells": [
  {
   "cell_type": "markdown",
   "metadata": {},
   "source": [
    "### 1). Write a Python program to check whether a string is a palindrome or not using a stack.\n"
   ]
  },
  {
   "cell_type": "markdown",
   "metadata": {},
   "source": [
    "Stack is an abstract data type whose behavior is defined according to Last In First Out (LIFO) principle.\n",
    "\n",
    "That is, it is meant to work more like a stack of objects, whereby the first item in a stack is always at the bottom and the last item added at the top, that is, items are placed on top of each other.\n",
    "\n",
    "Stack is defined by five operations as below;\n",
    " - **Push**: Used for adding items in the stack.\n",
    " - **Pop**: Used for removing items in the stack.\n",
    " - **Top**: Used for checking the top most item in the stack, typically, the last item to be added on the stack.\n",
    " - **Is_Empty**: Checks if the stack is empty.\n",
    " - **Is_Full**: Checks if the stack is full. This applies in case the stack was defined as a fixed-size stack\n",
    "\n"
   ]
  },
  {
   "cell_type": "code",
   "execution_count": 11,
   "metadata": {},
   "outputs": [
    {
     "name": "stdout",
     "output_type": "stream",
     "text": [
      "77\n"
     ]
    }
   ],
   "source": [
    "# Implementing a Stack Data Structure \n",
    "\n",
    "class Stack: \n",
    "    def __init__(self):\n",
    "        self.data = [] \n",
    "\n",
    "    def is_empty(self):\n",
    "        \"\"\" \n",
    "        Checks if the stack is empty \n",
    "        Returns a bool\n",
    "        \"\"\" \n",
    "        return len(self.data) == 0\n",
    "\n",
    "    def push(self, value): \n",
    "        \"\"\"\n",
    "        Adds an item to the stack\n",
    "        \"\"\"\n",
    "        self.data.append(value) \n",
    "\n",
    "    def pop(self):\n",
    "        \"\"\"\n",
    "        Removes an item from the stack\n",
    "        Condition: The stack must not be empty\n",
    "        \"\"\" \n",
    "        if not self.is_empty():\n",
    "            return self.data.pop()\n",
    "        return \"Stack is Empty\"\n",
    "\n",
    "    def top(self):\n",
    "        \"\"\"\n",
    "        Returns the top most item in the stack if the stack is not empty\n",
    "        \"\"\" \n",
    "        if not self.is_empty():\n",
    "            return self.data[-1]\n",
    "        return \"Stack is Empty\"\n",
    "\n",
    "my_stack = Stack()\n",
    "my_stack.push(28)\n",
    "my_stack.push(44)\n",
    "my_stack.push(77)\n",
    "print(my_stack.pop())"
   ]
  },
  {
   "cell_type": "markdown",
   "metadata": {},
   "source": [
    "Using the stack data type to determine is a sring is palidrome \n",
    "\n",
    "We will be testing below palidrome words \n",
    "1. Level\n",
    "2. Radar\n",
    "3. Civic\n",
    "4. Rotor\n",
    "5. Madam\n",
    "6. Racecar\n",
    "7. Refer\n",
    "8. Deified\n",
    "9. Repaper\n",
    "10. Reviver"
   ]
  },
  {
   "cell_type": "code",
   "execution_count": 50,
   "metadata": {},
   "outputs": [],
   "source": [
    "# creates a function to check if a word is palidrome \n",
    "# We shall stack every character in palidrome words and  the store the poped\n",
    "# letters in an output string \n",
    "# the compare the two\n",
    "\n",
    "def is_palidrome(input_word):\n",
    "    input_word = str(input_word).lower() # Make sure the input param is str and Force it as lower case \n",
    "\n",
    "    word_stack = Stack() # Defines a stack where word letters will be stacked \n",
    "    \n",
    "    output_word = \"\" \n",
    "\n",
    "    for char in input_word: # Stack all the characters from the input_word\n",
    "        word_stack.push(char) \n",
    "    \n",
    "    while True: # pops every character in the stack and concat the characters to \"output_word\" until the stack is empty\n",
    "        if not word_stack.is_empty():\n",
    "            output_word = output_word + word_stack.pop() \n",
    "        else:\n",
    "            break\n",
    "    return input_word == output_word # If the two strings are similar, then then word is palidromic"
   ]
  },
  {
   "cell_type": "code",
   "execution_count": 51,
   "metadata": {},
   "outputs": [
    {
     "data": {
      "text/plain": [
       "False"
      ]
     },
     "execution_count": 51,
     "metadata": {},
     "output_type": "execute_result"
    }
   ],
   "source": [
    "# Test with one word\n",
    "is_palidrome(\"mom\")\n",
    "is_palidrome(\"rogers\")"
   ]
  },
  {
   "cell_type": "code",
   "execution_count": 52,
   "metadata": {},
   "outputs": [
    {
     "name": "stdout",
     "output_type": "stream",
     "text": [
      "'Mom' is a Palidrome word?: True\n",
      "'123' is a Palidrome word?: False\n",
      "'Level' is a Palidrome word?: True\n",
      "'Civic' is a Palidrome word?: True\n",
      "'Civic' is a Palidrome word?: True\n",
      "'Madam' is a Palidrome word?: True\n",
      "'racecar' is a Palidrome word?: True\n",
      "'Refer' is a Palidrome word?: True\n",
      "'Aibohphobia' is a Palidrome word?: True\n",
      "'palidrome' is a Palidrome word?: False\n"
     ]
    }
   ],
   "source": [
    "# Testing the solution with a list of words\n",
    "\n",
    "word_list = [\"Mom\", 123, \"Level\", \"Civic\", \"Civic\", \"Madam\", \"racecar\", \"Refer\", \"Aibohphobia\", \"palidrome\"] \n",
    "\n",
    "for word in word_list:\n",
    "\n",
    "    print(\"'{}' is a Palidrome word?: {}\".format(word, is_palidrome(word))) "
   ]
  },
  {
   "cell_type": "markdown",
   "metadata": {},
   "source": [
    "### 2). Explain the concept of list comprehension in Python with at least three examples.\n",
    "___\n",
    "List comprehensions is the practice of creating new lists by combining loops and conditional logic into one line of code. \n",
    "\n",
    "List comprehensions makes the code more readable and expressive and therefore they are easier to understand.\n",
    "\n",
    "Below is an illustration of list comprehension; \n",
    "\n",
    "The syntax for creating a list comprehension is illustrated below;\n",
    "\n",
    "- `[expr for item in iterable]`\n",
    "\n",
    "To demonstrate this, we can; \n",
    "\n",
    " - Assume we want to create a list of squares and the values are in an already existings list."
   ]
  },
  {
   "cell_type": "code",
   "execution_count": 53,
   "metadata": {},
   "outputs": [
    {
     "data": {
      "text/plain": [
       "[4, 16, 64, 100]"
      ]
     },
     "execution_count": 53,
     "metadata": {},
     "output_type": "execute_result"
    }
   ],
   "source": [
    "my_numbers = [2, 4, 8, 10] \n",
    "\n",
    "# To create a list of squares, we can;\n",
    "my_squares = [number**2 for number in my_numbers] \n",
    "\n",
    "my_squares"
   ]
  },
  {
   "cell_type": "markdown",
   "metadata": {},
   "source": [
    "We can also include conditions within list comprehensions using this syntax \n",
    "\n",
    "Syntax --> `[expr for item in iterable if condition]` \n",
    "\n",
    "To demonstrate this, we can\n",
    " - Assume we want to create a list of squares for every number greather than 20"
   ]
  },
  {
   "cell_type": "code",
   "execution_count": 55,
   "metadata": {},
   "outputs": [
    {
     "data": {
      "text/plain": [
       "[1600, 3600, 625, 900, 2500]"
      ]
     },
     "execution_count": 55,
     "metadata": {},
     "output_type": "execute_result"
    }
   ],
   "source": [
    "my_numbers = [10, 20, 10, 40, 60, 25, 30, 50, 10, 0] \n",
    "\n",
    "# Create a list of squares for all numbers greater than 20, we can;\n",
    "my_squares = [number**2 for number in my_numbers if number > 20] \n",
    "\n",
    "my_squares"
   ]
  },
  {
   "cell_type": "markdown",
   "metadata": {},
   "source": [
    "### 3). Explain what a compound datatype is in Python with three examples.\n",
    "___"
   ]
  },
  {
   "cell_type": "markdown",
   "metadata": {},
   "source": [
    "Compound datatypes are datatypes that can hold more than one type in a single variable. Examples of compound datatypes include;\n",
    " - **Lists**: These are built in datatypes that can hold a collection of items. The items held can be of different data, e.g., strings, floats, integers, or even lists.\n",
    "\n",
    " - **Dictionaries**: An unordered collection of items stored in key-value pairs. The values can be of any data type as with lists.\n",
    "\n",
    " - **Tuples**: Tuples are like lists, only that they are immutable. They can have any number of items of different datatypes.\n",
    " - **Sets**: Used to store a collection of unique items of any datatype.\n",
    "\n",
    "Below are examples illustrating how to work with these datatypes."
   ]
  },
  {
   "cell_type": "code",
   "execution_count": 1,
   "metadata": {},
   "outputs": [
    {
     "data": {
      "text/plain": [
       "19.4"
      ]
     },
     "execution_count": 1,
     "metadata": {},
     "output_type": "execute_result"
    }
   ],
   "source": [
    "# Understanding the use Python Lists\n",
    "\n",
    "# creating a list witwh a collection of different datatypes \n",
    "my_list = [\"John\", 23, 19.4, [2, \"Doe\", 2]] \n",
    "\n",
    "# Items in a list are accessed using thier index \n",
    "# Indexes starts from 0 \n",
    "my_list[0] # \"John\" \n",
    "my_list[2] # 19.4 "
   ]
  },
  {
   "cell_type": "code",
   "execution_count": 6,
   "metadata": {},
   "outputs": [
    {
     "data": {
      "text/plain": [
       "20"
      ]
     },
     "execution_count": 6,
     "metadata": {},
     "output_type": "execute_result"
    }
   ],
   "source": [
    "# Dictionaries \n",
    "\n",
    "# Creating a dictionaries \n",
    "my_dict = {\n",
    "    \"Name\": \"John Doe\",\n",
    "    \"Age\": 20,\n",
    "    \"is_student\": True\n",
    "} \n",
    "\n",
    "# Keys should be unique \n",
    "# Accessing items is through keys\n",
    "my_dict[\"Name\"] # John Doe \n",
    "my_dict[\"Age\"] # 20"
   ]
  },
  {
   "cell_type": "code",
   "execution_count": 7,
   "metadata": {},
   "outputs": [
    {
     "data": {
      "text/plain": [
       "{1, 2, 4}"
      ]
     },
     "execution_count": 7,
     "metadata": {},
     "output_type": "execute_result"
    }
   ],
   "source": [
    "# Sets \n",
    "\n",
    "# They only store unique items, i.e., they don't store duplicates \n",
    "# Creating a set \n",
    "my_set = {1, \"name\", 2.3} \n",
    "my_set_2 = {1, 2, 2, 2, 4, 4, 4} # onlly 1, 2, 4 are stored \n",
    "my_set_2"
   ]
  },
  {
   "cell_type": "markdown",
   "metadata": {},
   "source": [
    "### 4). Write a function that takes a string and returns a list of bigrams.\n",
    "___ \n",
    "Bigrams represents a pair of words that appear consecutively obtained from a sentence or a sequence of text. \n",
    "\n",
    "Assuming we have a sentence like this;\n",
    "\n",
    " - `I love cycling`.\n",
    "\n",
    "bigrams would be;\n",
    "\n",
    " - `\"I love\"`\n",
    "  \n",
    " - `\"love cycling\"` \n",
    "\n",
    "Below is a function that takes a string and returns a list of bigrams;"
   ]
  },
  {
   "cell_type": "code",
   "execution_count": 65,
   "metadata": {},
   "outputs": [],
   "source": [
    "# A function that takes a string and returns a list of bigrams \n",
    "\n",
    "def make_bigrams(sentence: str = \"\"):\n",
    "    \"\"\" \n",
    "    Gets a sentence and returns a list of list of bigrams\n",
    "    Args:\n",
    "        sentence (str): A sequence of words\n",
    "    \n",
    "    Returns:\n",
    "        final_list_of_bigrams (list): A list containing a list of list of bigrams\n",
    "    \"\"\" \n",
    "    sentence = str(sentence) # Ensure that the parameter is always a string\n",
    "\n",
    "    input_word_list = sentence.split() # Converts the sentence into a list of words\n",
    "\n",
    "    final_list_of_bigrams = list() # Bigrams will be saved here as a list of lists \n",
    "\n",
    "    for index in range(len(input_word_list)):\n",
    "\n",
    "        first_word = input_word_list[index] # Access the first word \n",
    "    \n",
    "        if index != len(input_word_list) - 1: # Ensures the index does not get out of range\n",
    "\n",
    "            second_word = input_word_list[index + 1] # Access the next word \n",
    "\n",
    "            bigram = [first_word, second_word] # Create a bigram\n",
    "\n",
    "            final_list_of_bigrams.append(bigram)\n",
    "        \n",
    "        else:\n",
    "            break\n",
    "\n",
    "    return final_list_of_bigrams if len(final_list_of_bigrams) > 0 else \"No Bigrams Found!!\""
   ]
  },
  {
   "cell_type": "code",
   "execution_count": 57,
   "metadata": {},
   "outputs": [
    {
     "data": {
      "text/plain": [
       "'No Bigrams Found!!'"
      ]
     },
     "execution_count": 57,
     "metadata": {},
     "output_type": "execute_result"
    }
   ],
   "source": [
    "# Creating Bigrams\n",
    "sentence_1 = \"My name is Rogers Macharia Muthoni\" \n",
    "make_bigrams(sentence_1) \n",
    "\n",
    "sentence_2 = 11231234234235434 # Unexpected param\n",
    "make_bigrams(sentence_2)\n",
    "\n",
    "sentence_3 = \"This is a function to create bigrams\"\n",
    "make_bigrams(sentence_3) \n",
    "\n",
    "make_bigrams() # Without any param"
   ]
  },
  {
   "cell_type": "markdown",
   "metadata": {},
   "source": [
    "### 5). Given a dictionary with keys as letters and values as lists of letters, write a function closest_key to find the key with the input value closest to the beginning of the list. \n",
    "___ \n"
   ]
  },
  {
   "cell_type": "code",
   "execution_count": 66,
   "metadata": {},
   "outputs": [
    {
     "data": {
      "text/plain": [
       "inf"
      ]
     },
     "execution_count": 66,
     "metadata": {},
     "output_type": "execute_result"
    }
   ],
   "source": [
    "float('inf')"
   ]
  },
  {
   "cell_type": "code",
   "execution_count": null,
   "metadata": {},
   "outputs": [],
   "source": []
  }
 ],
 "metadata": {
  "kernelspec": {
   "display_name": "venv",
   "language": "python",
   "name": "python3"
  },
  "language_info": {
   "codemirror_mode": {
    "name": "ipython",
    "version": 3
   },
   "file_extension": ".py",
   "mimetype": "text/x-python",
   "name": "python",
   "nbconvert_exporter": "python",
   "pygments_lexer": "ipython3",
   "version": "3.11.2"
  }
 },
 "nbformat": 4,
 "nbformat_minor": 2
}
