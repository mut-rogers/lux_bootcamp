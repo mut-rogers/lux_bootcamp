{
 "cells": [
  {
   "cell_type": "markdown",
   "metadata": {},
   "source": [
    "#### Project Statement \n",
    "_____\n",
    "- In this project, we shall be extracting data from Jumia (www.jumia.co.ke) an e-Commerce website. \n",
    "\n",
    "- We shall be scrapping the website to access products with discounts currently. \n",
    "\n",
    "- The data will be moved to a Postgres database housed at Aiven - (https://aiven.io/) \n",
    "\n",
    "#### Key libraries for this projects include;\n",
    "___\n",
    "\n",
    "1. Beautiful Soup - `pip install beautifulsoup4`\n",
    "\n",
    "2. Pandas - `pip install pandas`\n",
    "\n",
    "3. requests "
   ]
  },
  {
   "cell_type": "markdown",
   "metadata": {},
   "source": [
    "#### Stage 1: Setting up the project \n",
    "\n",
    "- Importing the libraries,\n",
    "\n",
    "- Setting project variables"
   ]
  },
  {
   "cell_type": "code",
   "execution_count": 49,
   "metadata": {},
   "outputs": [],
   "source": [
    "# Installing necessary libaries \n",
    "\n",
    "from bs4 import BeautifulSoup \n",
    "import pandas as pd \n",
    "import lxml\n",
    "import requests \n",
    "import time"
   ]
  },
  {
   "cell_type": "code",
   "execution_count": 83,
   "metadata": {},
   "outputs": [],
   "source": [
    "BASE_URL = \"https://www.jumia.co.ke/{}/?page={}#catalog-listing\" # This is the BASE_URL that will be used in this project\n",
    "\n",
    "# This list will hold the product categories we shall scrape\n",
    "PRODUCT_CATEGORIES = [\n",
    "    \"electronics\",\n",
    "    \"phones-tablets\",\n",
    "    # \"category-fashion-by-jumia\",\n",
    "    # \"home-office\",\n",
    "    # \"health-beauty\",\n",
    "    # \"home-office-appliances\",\n",
    "    # \"computing\",\n",
    "    # \"baby-products\",\n",
    "    # \"sporting-goods\"\n",
    "]\n",
    "\n",
    "MAX_PAGE_COUNT = 2 # Sets the number of pages to scrape for every product category. Max = 50\n",
    "\n",
    "# To make sure that we are sending requests as user agennts for all our HTTP requests.\n",
    "# The default user agent using python requests in Python\n",
    "PAGE_HEADERS = {'User-Agent': 'Mozilla/5.0 (Windows NT 10.0; Win64; x64) AppleWebKit/537.36 (KHTML, like Gecko) Chrome/89.0.4389.82 Safari/537.36'}"
   ]
  },
  {
   "cell_type": "markdown",
   "metadata": {},
   "source": [
    "### Step 2: Scrape the Web"
   ]
  },
  {
   "cell_type": "code",
   "execution_count": 86,
   "metadata": {},
   "outputs": [],
   "source": [
    "def scrapper() -> list:\n",
    "    \"\"\" \n",
    "    This function scrapes the project URL to find products, thier prices, and discounts prices\n",
    "\n",
    "    Returns:\n",
    "        all_products (list): A list of dictionaries containing products that have been scrapped.\n",
    "    \"\"\" \n",
    "\n",
    "    all_products = [] # The scraped products will be added here as a list of dictionaries\n",
    "\n",
    "    current_page_num = 0 # Holds the value for the current page being scrapped \n",
    "\n",
    "\n",
    "    # Looping through the product categories of interest\n",
    "    for product_category in PRODUCT_CATEGORIES:\n",
    "\n",
    "        # Make sure we don't try to access pages that don't exist\n",
    "        while current_page_num <= MAX_PAGE_COUNT: \n",
    "\n",
    "            response = requests.get(BASE_URL.format(product_category, current_page_num), headers=PAGE_HEADERS) \n",
    "\n",
    "            soup = BeautifulSoup(response.text, 'lxml') # Create a soup \n",
    "\n",
    "            products_wrapper = soup.find_all(\"article\", {\"class\": \"prd _fb col c-prd\"})  # Find all the HTML tags wrapping each product\n",
    "            \n",
    "            # Loop and access each wrapper to access specific information for earch product\n",
    "            for product in products_wrapper:\n",
    "                product_name = product.find(\"h3\", {\"class\": \"name\"}).text # Access the product name \n",
    "\n",
    "                current_price = product.find(\"div\", {\"class\": \"prc\"}).text # Access the current price \n",
    " \n",
    "                try: # Accounting for products that may not have old price\n",
    "                    old_price = product.find(\"div\", {\"class\": \"old\"}).text\n",
    "                except:\n",
    "                    old_price = \"0\" \n",
    "\n",
    "                # Create a dictionary for this product and append to the list all_products\n",
    "                current_product_details = {\n",
    "                    \"product_name\": product_name,\n",
    "                    \"category\": product_category,\n",
    "                    \"current_price\": current_price,\n",
    "                    \"old_price\": old_price\n",
    "                } \n",
    "\n",
    "                all_products.append(current_product_details)\n",
    "            \n",
    "            current_page_num = current_page_num + 1 # Increment this to move to the next page \n",
    "\n",
    "            # We want the scrapper to pause for 2 seconds before making another request\n",
    "            print(\"current_category = {} | current_page = {}\".format(product_category, current_page_num))\n",
    "            # print(\"Sleeping for 3 seconds...\")\n",
    "            time.sleep(4) \n",
    "\n",
    "            # Break from the while loop if we reach the last page\n",
    "            if current_page_num == MAX_PAGE_COUNT:\n",
    "                break\n",
    "            \n",
    "        # Reset the page counter when done with each category\n",
    "        current_page_num = 0\n",
    "\n",
    "\n",
    "    return all_products "
   ]
  },
  {
   "cell_type": "code",
   "execution_count": 87,
   "metadata": {},
   "outputs": [
    {
     "name": "stdout",
     "output_type": "stream",
     "text": [
      "current_category = electronics | current_page = 1\n",
      "current_category = electronics | current_page = 2\n",
      "current_category = phones-tablets | current_page = 1\n",
      "current_category = phones-tablets | current_page = 2\n"
     ]
    },
    {
     "data": {
      "text/plain": [
       "160"
      ]
     },
     "execution_count": 87,
     "metadata": {},
     "output_type": "execute_result"
    }
   ],
   "source": [
    "len(scrapper()) "
   ]
  },
  {
   "cell_type": "code",
   "execution_count": 13,
   "metadata": {},
   "outputs": [],
   "source": [
    "# Scrape the page \n",
    "\n",
    "response = requests.get(\n",
    "    url=BASE_URL + 'category-fashion-by-jumia/?page=1#catalog-listing',\n",
    "    headers=PAGE_HEADERS\n",
    ")"
   ]
  },
  {
   "cell_type": "code",
   "execution_count": 14,
   "metadata": {},
   "outputs": [],
   "source": [
    "# create a soup \n",
    "\n",
    "soup = BeautifulSoup(response.text, 'lxml') \n",
    "\n",
    "# Get the products \n",
    "products = soup.find_all(\"article\", {\"class\": \"prd _fb col c-prd\"})"
   ]
  },
  {
   "cell_type": "code",
   "execution_count": 15,
   "metadata": {},
   "outputs": [
    {
     "name": "stdout",
     "output_type": "stream",
     "text": [
      "Fashion 6Pcs Soft Cotton Checked Men's Boxers – Multicolor, KSh 618, 0\n",
      "Fashion 4 In 1 Ladies Handbags Women Shoulder Bags Set PU Leather -Pink, KSh 764, KSh 1,505\n",
      "Fashion 4pcs Ladies Handbags Women Shoulder Tote Bags Set PU Leather-Black, KSh 895, KSh 1,402\n",
      "Fashion 2024 Mens Casual High-Top Shoes Running Sneakers - Beige, KSh 1,674 - KSh 1,860, KSh 2,735\n",
      "Fashion Couple Canvas Low Top Lace-up Shoes Classic Casual Sneakers Black, KSh 690 - KSh 1,000, KSh 1,200 - KSh 1,500\n",
      "Fashion Mens Sneakers Shoes Sports Shoes Breathable Running Shoes, KSh 1,000 - KSh 1,100, KSh 1,800 - KSh 2,000\n",
      "Fashion Men Shoes Sneakers Skateboarding Shoes Sport Shoes Running Sneakers Casual Shoes, KSh 989 - KSh 1,099, KSh 1,371 - KSh 1,913\n",
      "Fashion New Young Fashion Trendy Board Shoes - Blue, KSh 1,590, KSh 2,606 - KSh 2,839\n",
      "Fashion Men's Trendy Sneakers - White, KSh 1,341 - KSh 1,490, KSh 2,223\n",
      "Fashion Slipon Shoes Loafers Shoes Canvas Shoes Casual Shoes Mens Sneaker Black, KSh 650 - KSh 759, KSh 1,200 - KSh 1,500\n",
      "Fashion 6Pcs Pure Cotton Checked Men's Boxers – Multicolor, KSh 799 - KSh 1,199, KSh 899 - KSh 1,250\n",
      "Fashion Illuminate Every Step With Exquisite Leather Official Shoes + Free Gift, KSh 1,499, KSh 1,499 - KSh 3,800\n",
      "Fashion Men's Hot Selling Fashion Board Shoes - White Khaki, KSh 1,390, KSh 2,074 - KSh 2,527\n",
      "Fashion Men's Fashion Short Sleeve T-Shirts, KSh 294, KSh 520\n",
      "Fashion Men's Soft Sole Leather Shoes - Black, KSh 980, KSh 1,614\n",
      "Waanzilish Mens Sneakers Shoes Outdoor Hiking Shoes Non-slip Sports Shoes Breathable Blue, KSh 1,400, KSh 1,500\n",
      "Fashion Sneakers Women Shoes Women's Shoes Ladies, KSh 575, KSh 980 - KSh 1,048\n",
      "Fashion 3 Pieces Of Adjustable Baseball Cap - Multicolour+free Gift, KSh 599, KSh 893\n",
      "Fashion Mens Sneakers Shoes Sports Shoes Breathable Running Shoes -White, KSh 1,000, KSh 2,000\n",
      "Fashion Men Bags Chest Bags Crossbody Bags Shoulder Bags Sling Satchel, KSh 599, KSh 999\n",
      "Fashion 2 Pcs Ladies Backpack Bag School Bags Black Casual Bag Women Purse Mini Bag, KSh 849, KSh 1,299\n",
      "Fashion Men Shoes Loafers Casual Shoes Slip-On Shoes Business Shoes, KSh 699, KSh 1,398\n",
      "Fashion Lace Up Sneakers Women's Shoes-Black, KSh 590, KSh 990\n",
      "Fashion 16 Inch Laptop Backpack Bags With USB Waterproof, KSh 674, KSh 1,490\n",
      "Fashion Men's Casual Shoes Sneakers Sports Shoes, KSh 559 - KSh 629, KSh 1,099 - KSh 1,399\n",
      "Fashion Shoes For Women Sneakers Ladies Shoes Sneakers, KSh 539, KSh 864\n",
      "Fashion Men's Long Sleeve Striped Shirt, KSh 539 - KSh 599, KSh 1,190\n",
      "Fashion 6Pcs Soft Cotton Brief Men's Boxers – Waist 29-35inc, KSh 899, 0\n",
      "ASHION 2024 Men's Casual Shoes Big Size  Sneakers 39-47, KSh 1,080 - KSh 1,118, KSh 2,331\n",
      "Fashion Mens Sneaker Causal Breathable Shoes Light Weight Walking Shoes, KSh 950, KSh 1,800\n",
      "6pcs Mixed Assorted Colours, Llight Cotton Fabric Waist 28-32 Inches 28-32 Inches, KSh 599, KSh 899\n",
      "Fashion Men Shoes Sneakers Sport Shoes Running Sneakers Casual Shoes  Welcome To Smark, KSh 999, KSh 1,939\n",
      "Fashion 2 PCS/Sets T-shirts Tshirts Shorts For Men Clothes, KSh 552, KSh 1,082\n",
      "Fashion Men's Leather Shoes Business Casual Loafers-Brown, KSh 930, KSh 1,275\n",
      "Fashion Slip-on Men Canvas Shoes Light-weight Men's Casual Flats Breathable Flat Loafers For Men, KSh 699 - KSh 799, KSh 1,000\n",
      "Fashion Men's Casual Shoes Loafers & Slip-Ons Sneakers, KSh 599 - KSh 699, KSh 1,299\n",
      "Fashion Women 3 Layers Beads Bar Tassel Charm Pendant-Golden, KSh 89, KSh 157\n",
      "Fashion 2024 Mens Casual Board Shoes Running Sneakers - White/Black, KSh 1,431 - KSh 1,590, KSh 2,373\n",
      "Fashion Men Shoes Sneakers Sport Shoes Casual Shoes Outdoor Shoes Running Shoes, KSh 989 - KSh 1,099, KSh 1,861\n",
      "Fashion Mens Long Sleeve Dress Shirts - White, KSh 539 - KSh 599, KSh 1,190\n"
     ]
    }
   ],
   "source": [
    "# Access product names and details \n",
    "# Loops through the result_set and access each individual product\n",
    "\n",
    "for product in products:\n",
    "\n",
    "    product_name = product.find(\"h3\", {\"class\": \"name\"}).text\n",
    "\n",
    "    current_price = product.find(\"div\", {\"class\": \"prc\"}).text \n",
    "\n",
    "    try:\n",
    "        old_price = product.find(\"div\", {\"class\": \"old\"}).text\n",
    "    except:\n",
    "        old_price = \"0\"\n",
    "\n",
    "    print(\"{}, {}, {}\".format(product_name, current_price, old_price))"
   ]
  },
  {
   "cell_type": "code",
   "execution_count": null,
   "metadata": {},
   "outputs": [],
   "source": []
  }
 ],
 "metadata": {
  "kernelspec": {
   "display_name": "venv",
   "language": "python",
   "name": "python3"
  },
  "language_info": {
   "codemirror_mode": {
    "name": "ipython",
    "version": 3
   },
   "file_extension": ".py",
   "mimetype": "text/x-python",
   "name": "python",
   "nbconvert_exporter": "python",
   "pygments_lexer": "ipython3",
   "version": "3.11.2"
  }
 },
 "nbformat": 4,
 "nbformat_minor": 2
}
