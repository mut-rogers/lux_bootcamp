{
 "cells": [
  {
   "cell_type": "markdown",
   "metadata": {},
   "source": [
    "#### Project Statement \n",
    "_____\n",
    "- In this project, we shall be extracting data from Jumia (www.jumia.co.ke) an e-Commerce website. \n",
    "\n",
    "- We shall be scrapping the website to access products with discounts currently. \n",
    "\n",
    "- The data will be moved to a Postgres database housed at Aiven - (https://aiven.io/) \n",
    "\n",
    "#### Key libraries for this projects include;\n",
    "___\n",
    "\n",
    "1. Beautiful Soup - `pip install beautifulsoup4`\n",
    "\n",
    "2. Pandas - `pip install pandas`\n",
    "\n",
    "3. requests "
   ]
  },
  {
   "cell_type": "markdown",
   "metadata": {},
   "source": [
    "#### Stage 1: Setting up the project \n",
    "\n",
    "- Importing the libraries,\n",
    "\n",
    "- Setting project variables"
   ]
  },
  {
   "cell_type": "code",
   "execution_count": 86,
   "metadata": {},
   "outputs": [],
   "source": [
    "# Installing necessary libaries \n",
    "\n",
    "from bs4 import BeautifulSoup \n",
    "import pandas as pd \n",
    "import lxml\n",
    "import requests \n",
    "import time\n",
    "import re\n",
    "import os\n",
    "\n",
    "# To be used with database \n",
    "from sqlalchemy import create_engine, text\n",
    "from sqlalchemy.exc import OperationalError"
   ]
  },
  {
   "cell_type": "code",
   "execution_count": 76,
   "metadata": {},
   "outputs": [],
   "source": [
    "BASE_URL = \"https://www.jumia.co.ke/{}/?page={}#catalog-listing\" # This is the BASE_URL that will be used in this project\n",
    "\n",
    "# This list will hold the product categories we shall scrape\n",
    "PRODUCT_CATEGORIES = [\n",
    "    \"electronics\",\n",
    "    \"phones-tablets\",\n",
    "    # \"category-fashion-by-jumia\",\n",
    "    # \"home-office\",\n",
    "    # \"health-beauty\",\n",
    "    # \"home-office-appliances\",\n",
    "    # \"computing\",\n",
    "    # \"baby-products\",\n",
    "    # \"sporting-goods\"\n",
    "]\n",
    "\n",
    "MAX_PAGE_COUNT = 1 # Sets the number of pages to scrape for every product category. Max = 50\n",
    "\n",
    "# To make sure that we are sending requests as user agennts for all our HTTP requests.\n",
    "# The default user agent using python requests in Python\n",
    "PAGE_HEADERS = {'User-Agent': 'Mozilla/5.0 (Windows NT 10.0; Win64; x64) AppleWebKit/537.36 (KHTML, like Gecko) Chrome/89.0.4389.82 Safari/537.36'}"
   ]
  },
  {
   "cell_type": "markdown",
   "metadata": {},
   "source": [
    "### Step 2: Scrape the Website"
   ]
  },
  {
   "cell_type": "code",
   "execution_count": 77,
   "metadata": {},
   "outputs": [],
   "source": [
    "def scrapper() -> list:\n",
    "    \"\"\" \n",
    "    This function scrapes the project URL to find products, thier prices, and discounts prices\n",
    "\n",
    "    Returns:\n",
    "        all_products (list): A list of dictionaries containing products that have been scrapped.\n",
    "    \"\"\" \n",
    "\n",
    "    all_products = [] # The scraped products will be added here as a list of dictionaries\n",
    "\n",
    "    current_page_num = 1 # Holds the value for the current page being scrapped \n",
    "\n",
    "    # Looping through the product categories of interest\n",
    "    for product_category in PRODUCT_CATEGORIES:\n",
    "\n",
    "        print(\"Now Scrapping {}\".format(product_category)) # Outputs the current product being scrapped\n",
    "\n",
    "        # Make sure we don't try to access pages that don't exist\n",
    "        while current_page_num <= MAX_PAGE_COUNT: \n",
    "\n",
    "            # print(\"Current Page Number {}\".format(current_page_num)) # Outputs the current page being scrapped\n",
    "\n",
    "            response = requests.get(BASE_URL.format(product_category, current_page_num), headers=PAGE_HEADERS) \n",
    "\n",
    "            soup = BeautifulSoup(response.text, 'lxml') # Create a soup \n",
    "\n",
    "            products_wrapper = soup.find_all(\"article\", {\"class\": \"prd _fb col c-prd\"})  # Find all the HTML tags wrapping each product\n",
    "            \n",
    "            # Loop and access each wrapper to access specific information for earch product\n",
    "            for product in products_wrapper:\n",
    "                product_name = product.find(\"h3\", {\"class\": \"name\"}).text # Access the product name \n",
    "\n",
    "                current_price = product.find(\"div\", {\"class\": \"prc\"}).text # Access the current price \n",
    " \n",
    "                try: # Accounting for products that may not have old price\n",
    "                    old_price = product.find(\"div\", {\"class\": \"old\"}).text\n",
    "                except:\n",
    "                    old_price = \"0\" \n",
    "\n",
    "                # Create a dictionary for this product and append to the list all_products\n",
    "                current_product_details = {\n",
    "                    \"product_name\": product_name,\n",
    "                    \"category\": product_category,\n",
    "                    \"current_price\": current_price,\n",
    "                    \"old_price\": old_price\n",
    "                } \n",
    "\n",
    "                all_products.append(current_product_details)\n",
    "            \n",
    "            current_page_num = current_page_num + 1 # Increment this to move to the next page\n",
    "\n",
    "            # We want the scrapper to pause for 4 seconds before making another request\n",
    "            print(\"Scrapper going to sleep...\")\n",
    "            print(\"\")\n",
    "            time.sleep(4)\n",
    "            \n",
    "        # Reset the page counter when done with each category\n",
    "        current_page_num = 1\n",
    "\n",
    "    return all_products "
   ]
  },
  {
   "cell_type": "markdown",
   "metadata": {},
   "source": [
    "### Step 3: Data Storage \n",
    "___ \n",
    "This stage involves storing the scrapped data to the database \n",
    "\n",
    "Below are the implementation details;\n",
    "\n",
    " - **#1.** Move the data to a Pandas Dataframe. \n",
    "\n",
    " - **#2.** Perform some data cleaning tasks, e.g., transformations \n",
    "\n",
    " - **#3.** Set up the database\n",
    "\n",
    " - **#4.** Use Pandas to move the cleaned data to our database."
   ]
  },
  {
   "cell_type": "markdown",
   "metadata": {},
   "source": [
    "#### #1. Moving the data to a Pandas Dataframe.\n",
    "\n",
    "- Since the data from the scrapper is a list of dictionaries, we can simply create a Pandas DataFrame as follows \n",
    "\n",
    "    `pd.DataFrame(list_of_dictionaries)`"
   ]
  },
  {
   "cell_type": "code",
   "execution_count": 78,
   "metadata": {},
   "outputs": [
    {
     "name": "stdout",
     "output_type": "stream",
     "text": [
      "Now Scrapping electronics\n",
      "Scrapper going to sleep...\n",
      "\n",
      "Now Scrapping phones-tablets\n",
      "Scrapper going to sleep...\n",
      "\n"
     ]
    }
   ],
   "source": [
    "\n",
    "products_df = pd.DataFrame(scrapper()) # Creates a dataframe from the scrapped data"
   ]
  },
  {
   "cell_type": "markdown",
   "metadata": {},
   "source": [
    "#### #2. Perform some data cleaning tasks, e.g., transformations "
   ]
  },
  {
   "cell_type": "code",
   "execution_count": 79,
   "metadata": {},
   "outputs": [
    {
     "data": {
      "text/html": [
       "<div>\n",
       "<style scoped>\n",
       "    .dataframe tbody tr th:only-of-type {\n",
       "        vertical-align: middle;\n",
       "    }\n",
       "\n",
       "    .dataframe tbody tr th {\n",
       "        vertical-align: top;\n",
       "    }\n",
       "\n",
       "    .dataframe thead th {\n",
       "        text-align: right;\n",
       "    }\n",
       "</style>\n",
       "<table border=\"1\" class=\"dataframe\">\n",
       "  <thead>\n",
       "    <tr style=\"text-align: right;\">\n",
       "      <th></th>\n",
       "      <th>product_name</th>\n",
       "      <th>category</th>\n",
       "      <th>current_price</th>\n",
       "      <th>old_price</th>\n",
       "    </tr>\n",
       "  </thead>\n",
       "  <tbody>\n",
       "    <tr>\n",
       "      <th>0</th>\n",
       "      <td>Vitron HTC4388FS - 43\" Smart Android Frameless...</td>\n",
       "      <td>electronics</td>\n",
       "      <td>KSh 19,799</td>\n",
       "      <td>KSh 28,599</td>\n",
       "    </tr>\n",
       "    <tr>\n",
       "      <th>1</th>\n",
       "      <td>Vitron V527 - 2.1 CH Multimedia Speaker, BT/US...</td>\n",
       "      <td>electronics</td>\n",
       "      <td>KSh 5,450</td>\n",
       "      <td>KSh 7,599</td>\n",
       "    </tr>\n",
       "    <tr>\n",
       "      <th>2</th>\n",
       "      <td>Vitron HTC3200S,32\"Inch Bluetooth Enabled Fram...</td>\n",
       "      <td>electronics</td>\n",
       "      <td>KSh 14,399</td>\n",
       "      <td>KSh 18,500</td>\n",
       "    </tr>\n",
       "    <tr>\n",
       "      <th>3</th>\n",
       "      <td>Amtec AM-02 2.1CH Multimedia Speaker BT/USB/SD...</td>\n",
       "      <td>electronics</td>\n",
       "      <td>KSh 5,450</td>\n",
       "      <td>KSh 7,500</td>\n",
       "    </tr>\n",
       "    <tr>\n",
       "      <th>4</th>\n",
       "      <td>Vitron V643 3.1Ch Bluetooth Speaker System, 12...</td>\n",
       "      <td>electronics</td>\n",
       "      <td>KSh 4,749</td>\n",
       "      <td>KSh 5,600</td>\n",
       "    </tr>\n",
       "  </tbody>\n",
       "</table>\n",
       "</div>"
      ],
      "text/plain": [
       "                                        product_name     category  \\\n",
       "0  Vitron HTC4388FS - 43\" Smart Android Frameless...  electronics   \n",
       "1  Vitron V527 - 2.1 CH Multimedia Speaker, BT/US...  electronics   \n",
       "2  Vitron HTC3200S,32\"Inch Bluetooth Enabled Fram...  electronics   \n",
       "3  Amtec AM-02 2.1CH Multimedia Speaker BT/USB/SD...  electronics   \n",
       "4  Vitron V643 3.1Ch Bluetooth Speaker System, 12...  electronics   \n",
       "\n",
       "  current_price   old_price  \n",
       "0    KSh 19,799  KSh 28,599  \n",
       "1     KSh 5,450   KSh 7,599  \n",
       "2    KSh 14,399  KSh 18,500  \n",
       "3     KSh 5,450   KSh 7,500  \n",
       "4     KSh 4,749   KSh 5,600  "
      ]
     },
     "execution_count": 79,
     "metadata": {},
     "output_type": "execute_result"
    }
   ],
   "source": [
    "# Overview of the data \n",
    "\n",
    "products_df.head()"
   ]
  },
  {
   "cell_type": "code",
   "execution_count": 80,
   "metadata": {},
   "outputs": [
    {
     "data": {
      "text/html": [
       "<div>\n",
       "<style scoped>\n",
       "    .dataframe tbody tr th:only-of-type {\n",
       "        vertical-align: middle;\n",
       "    }\n",
       "\n",
       "    .dataframe tbody tr th {\n",
       "        vertical-align: top;\n",
       "    }\n",
       "\n",
       "    .dataframe thead th {\n",
       "        text-align: right;\n",
       "    }\n",
       "</style>\n",
       "<table border=\"1\" class=\"dataframe\">\n",
       "  <thead>\n",
       "    <tr style=\"text-align: right;\">\n",
       "      <th></th>\n",
       "      <th>product_name</th>\n",
       "      <th>category</th>\n",
       "      <th>current_price</th>\n",
       "      <th>old_price</th>\n",
       "    </tr>\n",
       "  </thead>\n",
       "  <tbody>\n",
       "    <tr>\n",
       "      <th>0</th>\n",
       "      <td>Vitron HTC4388FS - 43\" Smart Android Frameless...</td>\n",
       "      <td>electronics</td>\n",
       "      <td>19799</td>\n",
       "      <td>28599</td>\n",
       "    </tr>\n",
       "    <tr>\n",
       "      <th>1</th>\n",
       "      <td>Vitron V527 - 2.1 CH Multimedia Speaker, BT/US...</td>\n",
       "      <td>electronics</td>\n",
       "      <td>5450</td>\n",
       "      <td>7599</td>\n",
       "    </tr>\n",
       "    <tr>\n",
       "      <th>2</th>\n",
       "      <td>Vitron HTC3200S,32\"Inch Bluetooth Enabled Fram...</td>\n",
       "      <td>electronics</td>\n",
       "      <td>14399</td>\n",
       "      <td>18500</td>\n",
       "    </tr>\n",
       "    <tr>\n",
       "      <th>3</th>\n",
       "      <td>Amtec AM-02 2.1CH Multimedia Speaker BT/USB/SD...</td>\n",
       "      <td>electronics</td>\n",
       "      <td>5450</td>\n",
       "      <td>7500</td>\n",
       "    </tr>\n",
       "    <tr>\n",
       "      <th>4</th>\n",
       "      <td>Vitron V643 3.1Ch Bluetooth Speaker System, 12...</td>\n",
       "      <td>electronics</td>\n",
       "      <td>4749</td>\n",
       "      <td>5600</td>\n",
       "    </tr>\n",
       "  </tbody>\n",
       "</table>\n",
       "</div>"
      ],
      "text/plain": [
       "                                        product_name     category  \\\n",
       "0  Vitron HTC4388FS - 43\" Smart Android Frameless...  electronics   \n",
       "1  Vitron V527 - 2.1 CH Multimedia Speaker, BT/US...  electronics   \n",
       "2  Vitron HTC3200S,32\"Inch Bluetooth Enabled Fram...  electronics   \n",
       "3  Amtec AM-02 2.1CH Multimedia Speaker BT/USB/SD...  electronics   \n",
       "4  Vitron V643 3.1Ch Bluetooth Speaker System, 12...  electronics   \n",
       "\n",
       "  current_price old_price  \n",
       "0         19799     28599  \n",
       "1          5450      7599  \n",
       "2         14399     18500  \n",
       "3          5450      7500  \n",
       "4          4749      5600  "
      ]
     },
     "execution_count": 80,
     "metadata": {},
     "output_type": "execute_result"
    }
   ],
   "source": [
    "# The column for current_price and old_price should be converted to float \n",
    "# \"Ksh\" and \",\" should also be stripped from the values \n",
    "\n",
    "# Removing 'Ksh' and \",\" from the current_price and old_price values \n",
    "products_df[\"current_price\"] = products_df.current_price.str.replace(\"Ksh \", \"\", regex=True, flags=re.IGNORECASE).str.replace(\",\", \"\") \n",
    "\n",
    "products_df[\"old_price\"] = products_df.old_price.str.replace(\"Ksh \", \"\", regex=True, flags=re.IGNORECASE).str.replace(\",\", \"\") \n",
    "\n",
    "products_df.head()"
   ]
  },
  {
   "cell_type": "markdown",
   "metadata": {},
   "source": [
    "#### #3. Setting up the database \n",
    "\n",
    "- The database is hosted at;\n",
    "\n",
    "  `https://aiven.io/` \n",
    "\n",
    "- We will use SQLAlchemy to move data in our dataframe to the databases.\n",
    "\n",
    "- Database details have already been stored as environment variables."
   ]
  },
  {
   "cell_type": "code",
   "execution_count": 89,
   "metadata": {},
   "outputs": [
    {
     "data": {
      "text/plain": [
       "80"
      ]
     },
     "execution_count": 89,
     "metadata": {},
     "output_type": "execute_result"
    }
   ],
   "source": [
    "\n",
    "# Accessing the database details \n",
    "db_credentials = {\n",
    "   \"HOST\": os.getenv(\"DB_HOST\"),\n",
    "   \"NAME\": os.getenv(\"DB_NAME\"),\n",
    "   \"PASSWORD\": os.getenv(\"DB_PASSWORD\"),\n",
    "   \"PORT\": os.getenv(\"DB_PORT\"),\n",
    "   \"USER\": os.getenv(\"DB_USER\")\n",
    "} \n",
    "\n",
    "# Create a database engine \n",
    "db_engine = create_engine(\n",
    "    url=\"postgresql://{}:{}@{}:{}/{}?sslmode=require\".format(\n",
    "        db_credentials.get(\"USER\"),\n",
    "        db_credentials.get(\"PASSWORD\"),\n",
    "        db_credentials.get(\"HOST\"),\n",
    "        db_credentials.get(\"PORT\"),\n",
    "        db_credentials.get(\"NAME\")\n",
    "    )\n",
    ") \n",
    "\n",
    "# We want the data to be moved to a table called \"jumia_products\" \n",
    "table_name = \"jumia_products\" \n",
    "\n",
    "# Using Pandas to move the scrapped data to our database \n",
    "products_df.to_sql(name=table_name, con=db_engine, if_exists=\"replace\", index=False)"
   ]
  },
  {
   "cell_type": "markdown",
   "metadata": {},
   "source": []
  }
 ],
 "metadata": {
  "kernelspec": {
   "display_name": "venv",
   "language": "python",
   "name": "python3"
  },
  "language_info": {
   "codemirror_mode": {
    "name": "ipython",
    "version": 3
   },
   "file_extension": ".py",
   "mimetype": "text/x-python",
   "name": "python",
   "nbconvert_exporter": "python",
   "pygments_lexer": "ipython3",
   "version": "3.11.2"
  }
 },
 "nbformat": 4,
 "nbformat_minor": 2
}
