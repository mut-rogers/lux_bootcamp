{
 "cells": [
  {
   "cell_type": "markdown",
   "metadata": {},
   "source": [
    "#### Project Statement \n",
    "_____\n",
    "- In this project, we shall be extracting data from Jumia (www.jumia.co.ke) an e-Commerce website. \n",
    "\n",
    "- We shall be scrapping the website to access products with discounts currently. \n",
    "\n",
    "- The data will be moved to a Postgres database housed at Aiven - (https://aiven.io/) \n",
    "\n",
    "#### Key libraries for this projects include;\n",
    "___\n",
    "\n",
    "1. Beautiful Soup - `pip install beautifulsoup4`\n",
    "\n",
    "2. Pandas - `pip install pandas`\n",
    "\n",
    "3. requests "
   ]
  },
  {
   "cell_type": "markdown",
   "metadata": {},
   "source": [
    "#### Stage 1: Setting up the project \n",
    "\n",
    "- Importing the libraries,\n",
    "\n",
    "- Setting project variables"
   ]
  },
  {
   "cell_type": "code",
   "execution_count": 1,
   "metadata": {},
   "outputs": [],
   "source": [
    "# Installing necessary libaries \n",
    "\n",
    "from bs4 import BeautifulSoup \n",
    "import pandas as pd \n",
    "import lxml\n",
    "import requests \n",
    "import time\n",
    "import re\n",
    "import os\n",
    "\n",
    "# To be used with database \n",
    "from sqlalchemy import create_engine, text\n",
    "from sqlalchemy.exc import OperationalError"
   ]
  },
  {
   "cell_type": "code",
   "execution_count": 91,
   "metadata": {},
   "outputs": [],
   "source": [
    "BASE_URL = \"https://www.jumia.co.ke/{}/?page={}#catalog-listing\" # This is the BASE_URL that will be used in this project\n",
    "\n",
    "# This list will hold the product categories we shall scrape\n",
    "PRODUCT_CATEGORIES = [\n",
    "    \"electronics\",\n",
    "    \"phones-tablets\",\n",
    "    \"category-fashion-by-jumia\",\n",
    "    \"home-office\",\n",
    "    \"health-beauty\",\n",
    "    \"home-office-appliances\",\n",
    "    \"computing\",\n",
    "    \"baby-products\",\n",
    "    \"sporting-goods\"\n",
    "]\n",
    "\n",
    "MAX_PAGE_COUNT = 45 # Sets the number of pages to scrape for every product category. Max = 50\n",
    "\n",
    "# To make sure that we are sending requests as user agennts for all our HTTP requests.\n",
    "# The default user agent using python requests in Python\n",
    "PAGE_HEADERS = {'User-Agent': 'Mozilla/5.0 (Windows NT 10.0; Win64; x64) AppleWebKit/537.36 (KHTML, like Gecko) Chrome/89.0.4389.82 Safari/537.36'}"
   ]
  },
  {
   "cell_type": "markdown",
   "metadata": {},
   "source": [
    "### Step 2: Scrape the Website"
   ]
  },
  {
   "cell_type": "code",
   "execution_count": 92,
   "metadata": {},
   "outputs": [],
   "source": [
    "def scrapper() -> list:\n",
    "    \"\"\" \n",
    "    This function scrapes the project URL to find products, thier prices, and discounts prices\n",
    "\n",
    "    Returns:\n",
    "        all_products (list): A list of dictionaries containing products that have been scrapped.\n",
    "    \"\"\" \n",
    "\n",
    "    all_products = [] # The scraped products will be added here as a list of dictionaries\n",
    "\n",
    "    current_page_num = 1 # Holds the value for the current page being scrapped \n",
    "\n",
    "    # Looping through the product categories of interest\n",
    "    for product_category in PRODUCT_CATEGORIES:\n",
    "\n",
    "        print(\"Now Scrapping {}\".format(product_category)) # Outputs the current product being scrapped\n",
    "\n",
    "        # Make sure we don't try to access pages that don't exist\n",
    "        while current_page_num <= MAX_PAGE_COUNT: \n",
    "\n",
    "            # print(\"Current Page Number {}\".format(current_page_num)) # Outputs the current page being scrapped\n",
    "\n",
    "            response = requests.get(BASE_URL.format(product_category, current_page_num), headers=PAGE_HEADERS) \n",
    "\n",
    "            soup = BeautifulSoup(response.text, 'lxml') # Create a soup \n",
    "\n",
    "            products_wrapper = soup.find_all(\"article\", {\"class\": \"prd _fb col c-prd\"})  # Find all the HTML tags wrapping each product\n",
    "            \n",
    "            # Loop and access each wrapper to access specific information for earch product\n",
    "            for product in products_wrapper:\n",
    "                product_name = product.find(\"h3\", {\"class\": \"name\"}).text # Access the product name \n",
    "\n",
    "                current_price = product.find(\"div\", {\"class\": \"prc\"}).text # Access the current price \n",
    " \n",
    "                try: # Accounting for products that may not have old price\n",
    "                    old_price = product.find(\"div\", {\"class\": \"old\"}).text\n",
    "                except:\n",
    "                    old_price = \"0\" \n",
    "\n",
    "                # Create a dictionary for this product and append to the list all_products\n",
    "                current_product_details = {\n",
    "                    \"product_name\": product_name,\n",
    "                    \"category\": product_category,\n",
    "                    \"current_price\": current_price,\n",
    "                    \"old_price\": old_price\n",
    "                } \n",
    "\n",
    "                all_products.append(current_product_details)\n",
    "            \n",
    "            current_page_num = current_page_num + 1 # Increment this to move to the next page\n",
    "\n",
    "            # We want the scrapper to pause for 4 seconds before making another request\n",
    "            #print(\"Scrapper going to sleep...\")\n",
    "            #print(\"\")\n",
    "            time.sleep(4)\n",
    "            \n",
    "        # Reset the page counter when done with each category\n",
    "        current_page_num = 1\n",
    "\n",
    "    return all_products "
   ]
  },
  {
   "cell_type": "markdown",
   "metadata": {},
   "source": [
    "### Step 3: Data Storage \n",
    "___ \n",
    "This stage involves storing the scrapped data to the database \n",
    "\n",
    "Below are the implementation details;\n",
    "\n",
    " - **#1.** Move the data to a Pandas Dataframe. \n",
    "\n",
    " - **#2.** Perform some data cleaning tasks, e.g., transformations \n",
    "\n",
    " - **#3.** Set up the database\n",
    "\n",
    " - **#4.** Use Pandas to move the cleaned data to our database."
   ]
  },
  {
   "cell_type": "markdown",
   "metadata": {},
   "source": [
    "#### #1. Moving the data to a Pandas Dataframe.\n",
    "\n",
    "- Since the data from the scrapper is a list of dictionaries, we can simply create a Pandas DataFrame as follows \n",
    "\n",
    "    `pd.DataFrame(list_of_dictionaries)`"
   ]
  },
  {
   "cell_type": "code",
   "execution_count": null,
   "metadata": {},
   "outputs": [],
   "source": [
    "\n",
    "products_df = pd.DataFrame(scrapper()) # Creates a dataframe from the scrapped data"
   ]
  },
  {
   "cell_type": "markdown",
   "metadata": {},
   "source": [
    "#### #2. Perform some data cleaning tasks, e.g., transformations "
   ]
  },
  {
   "cell_type": "code",
   "execution_count": 94,
   "metadata": {},
   "outputs": [
    {
     "data": {
      "text/html": [
       "<div>\n",
       "<style scoped>\n",
       "    .dataframe tbody tr th:only-of-type {\n",
       "        vertical-align: middle;\n",
       "    }\n",
       "\n",
       "    .dataframe tbody tr th {\n",
       "        vertical-align: top;\n",
       "    }\n",
       "\n",
       "    .dataframe thead th {\n",
       "        text-align: right;\n",
       "    }\n",
       "</style>\n",
       "<table border=\"1\" class=\"dataframe\">\n",
       "  <thead>\n",
       "    <tr style=\"text-align: right;\">\n",
       "      <th></th>\n",
       "      <th>product_name</th>\n",
       "      <th>category</th>\n",
       "      <th>current_price</th>\n",
       "      <th>old_price</th>\n",
       "    </tr>\n",
       "  </thead>\n",
       "  <tbody>\n",
       "    <tr>\n",
       "      <th>0</th>\n",
       "      <td>Vitron HTC4388FS - 43\" Smart Android Frameless...</td>\n",
       "      <td>electronics</td>\n",
       "      <td>KSh 19,799</td>\n",
       "      <td>KSh 28,599</td>\n",
       "    </tr>\n",
       "    <tr>\n",
       "      <th>1</th>\n",
       "      <td>Vitron V527 - 2.1 CH Multimedia Speaker, BT/US...</td>\n",
       "      <td>electronics</td>\n",
       "      <td>KSh 5,450</td>\n",
       "      <td>KSh 7,599</td>\n",
       "    </tr>\n",
       "    <tr>\n",
       "      <th>2</th>\n",
       "      <td>Vitron HTC3200S,32\"Inch Bluetooth Enabled Fram...</td>\n",
       "      <td>electronics</td>\n",
       "      <td>KSh 14,399</td>\n",
       "      <td>KSh 18,500</td>\n",
       "    </tr>\n",
       "    <tr>\n",
       "      <th>3</th>\n",
       "      <td>Amtec AM-02 2.1CH Multimedia Speaker BT/USB/SD...</td>\n",
       "      <td>electronics</td>\n",
       "      <td>KSh 5,450</td>\n",
       "      <td>KSh 7,500</td>\n",
       "    </tr>\n",
       "    <tr>\n",
       "      <th>4</th>\n",
       "      <td>Vitron V643 3.1Ch Bluetooth Speaker System, 12...</td>\n",
       "      <td>electronics</td>\n",
       "      <td>KSh 4,749</td>\n",
       "      <td>KSh 5,600</td>\n",
       "    </tr>\n",
       "  </tbody>\n",
       "</table>\n",
       "</div>"
      ],
      "text/plain": [
       "                                        product_name     category  \\\n",
       "0  Vitron HTC4388FS - 43\" Smart Android Frameless...  electronics   \n",
       "1  Vitron V527 - 2.1 CH Multimedia Speaker, BT/US...  electronics   \n",
       "2  Vitron HTC3200S,32\"Inch Bluetooth Enabled Fram...  electronics   \n",
       "3  Amtec AM-02 2.1CH Multimedia Speaker BT/USB/SD...  electronics   \n",
       "4  Vitron V643 3.1Ch Bluetooth Speaker System, 12...  electronics   \n",
       "\n",
       "  current_price   old_price  \n",
       "0    KSh 19,799  KSh 28,599  \n",
       "1     KSh 5,450   KSh 7,599  \n",
       "2    KSh 14,399  KSh 18,500  \n",
       "3     KSh 5,450   KSh 7,500  \n",
       "4     KSh 4,749   KSh 5,600  "
      ]
     },
     "execution_count": 94,
     "metadata": {},
     "output_type": "execute_result"
    }
   ],
   "source": [
    "# Overview of the data \n",
    "\n",
    "products_df.head()"
   ]
  },
  {
   "cell_type": "code",
   "execution_count": 95,
   "metadata": {},
   "outputs": [
    {
     "data": {
      "text/html": [
       "<div>\n",
       "<style scoped>\n",
       "    .dataframe tbody tr th:only-of-type {\n",
       "        vertical-align: middle;\n",
       "    }\n",
       "\n",
       "    .dataframe tbody tr th {\n",
       "        vertical-align: top;\n",
       "    }\n",
       "\n",
       "    .dataframe thead th {\n",
       "        text-align: right;\n",
       "    }\n",
       "</style>\n",
       "<table border=\"1\" class=\"dataframe\">\n",
       "  <thead>\n",
       "    <tr style=\"text-align: right;\">\n",
       "      <th></th>\n",
       "      <th>product_name</th>\n",
       "      <th>category</th>\n",
       "      <th>current_price</th>\n",
       "      <th>old_price</th>\n",
       "    </tr>\n",
       "  </thead>\n",
       "  <tbody>\n",
       "    <tr>\n",
       "      <th>0</th>\n",
       "      <td>Vitron HTC4388FS - 43\" Smart Android Frameless...</td>\n",
       "      <td>electronics</td>\n",
       "      <td>19799</td>\n",
       "      <td>28599</td>\n",
       "    </tr>\n",
       "    <tr>\n",
       "      <th>1</th>\n",
       "      <td>Vitron V527 - 2.1 CH Multimedia Speaker, BT/US...</td>\n",
       "      <td>electronics</td>\n",
       "      <td>5450</td>\n",
       "      <td>7599</td>\n",
       "    </tr>\n",
       "    <tr>\n",
       "      <th>2</th>\n",
       "      <td>Vitron HTC3200S,32\"Inch Bluetooth Enabled Fram...</td>\n",
       "      <td>electronics</td>\n",
       "      <td>14399</td>\n",
       "      <td>18500</td>\n",
       "    </tr>\n",
       "    <tr>\n",
       "      <th>3</th>\n",
       "      <td>Amtec AM-02 2.1CH Multimedia Speaker BT/USB/SD...</td>\n",
       "      <td>electronics</td>\n",
       "      <td>5450</td>\n",
       "      <td>7500</td>\n",
       "    </tr>\n",
       "    <tr>\n",
       "      <th>4</th>\n",
       "      <td>Vitron V643 3.1Ch Bluetooth Speaker System, 12...</td>\n",
       "      <td>electronics</td>\n",
       "      <td>4749</td>\n",
       "      <td>5600</td>\n",
       "    </tr>\n",
       "  </tbody>\n",
       "</table>\n",
       "</div>"
      ],
      "text/plain": [
       "                                        product_name     category  \\\n",
       "0  Vitron HTC4388FS - 43\" Smart Android Frameless...  electronics   \n",
       "1  Vitron V527 - 2.1 CH Multimedia Speaker, BT/US...  electronics   \n",
       "2  Vitron HTC3200S,32\"Inch Bluetooth Enabled Fram...  electronics   \n",
       "3  Amtec AM-02 2.1CH Multimedia Speaker BT/USB/SD...  electronics   \n",
       "4  Vitron V643 3.1Ch Bluetooth Speaker System, 12...  electronics   \n",
       "\n",
       "  current_price old_price  \n",
       "0         19799     28599  \n",
       "1          5450      7599  \n",
       "2         14399     18500  \n",
       "3          5450      7500  \n",
       "4          4749      5600  "
      ]
     },
     "execution_count": 95,
     "metadata": {},
     "output_type": "execute_result"
    }
   ],
   "source": [
    "# The column for current_price and old_price should be converted to float \n",
    "# \"Ksh\" and \",\" should also be stripped from the values \n",
    "\n",
    "# Removing 'Ksh' and \",\" from the current_price and old_price values \n",
    "products_df[\"current_price\"] = products_df.current_price.str.replace(\"Ksh \", \"\", regex=True, flags=re.IGNORECASE).str.replace(\",\", \"\") \n",
    "\n",
    "products_df[\"old_price\"] = products_df.old_price.str.replace(\"Ksh \", \"\", regex=True, flags=re.IGNORECASE).str.replace(\",\", \"\") \n",
    "\n",
    "products_df.head()"
   ]
  },
  {
   "cell_type": "markdown",
   "metadata": {},
   "source": [
    "#### #3. Setting up the database and moving the data\n",
    "\n",
    "- The database is hosted at;\n",
    "\n",
    "  `https://aiven.io/` \n",
    "\n",
    "- We will use SQLAlchemy to move data in our dataframe to the databases.\n",
    "\n",
    "- Database details have already been stored as environment variables."
   ]
  },
  {
   "cell_type": "code",
   "execution_count": null,
   "metadata": {},
   "outputs": [],
   "source": [
    "\n",
    "# Accessing the database details \n",
    "db_credentials = {\n",
    "   \"HOST\": os.getenv(\"DB_HOST\"),\n",
    "   \"NAME\": os.getenv(\"DB_NAME\"),\n",
    "   \"PASSWORD\": os.getenv(\"DB_PASSWORD\"),\n",
    "   \"PORT\": os.getenv(\"DB_PORT\"),\n",
    "   \"USER\": os.getenv(\"DB_USER\")\n",
    "} \n",
    "\n",
    "# Create a database engine \n",
    "db_engine = create_engine(\n",
    "    url=\"postgresql://{}:{}@{}:{}/{}?sslmode=require\".format(\n",
    "        db_credentials.get(\"USER\"),\n",
    "        db_credentials.get(\"PASSWORD\"),\n",
    "        db_credentials.get(\"HOST\"),\n",
    "        db_credentials.get(\"PORT\"),\n",
    "        db_credentials.get(\"NAME\")\n",
    "    )\n",
    ") \n",
    "\n",
    "# We want the data to be moved to a table called \"jumia_products\" \n",
    "table_name = \"jumia_products\" \n",
    "\n",
    "# Using Pandas to move the scrapped data to our database \n",
    "products_df.to_sql(name=table_name, con=db_engine, if_exists=\"replace\", index=False)"
   ]
  },
  {
   "cell_type": "markdown",
   "metadata": {},
   "source": []
  },
  {
   "cell_type": "markdown",
   "metadata": {},
   "source": [
    "The next step is to access the data from the database and try to make simple data analysis tasks such as;\n",
    "\n",
    "  - Comparing pricess accross product categories \n",
    "\n",
    "  - Average current price for each product category \n",
    "\n",
    "  - Average discount percentage accross all products \n",
    "\n",
    "Steps accessing data from our database;\n",
    "\n",
    " - Connect to your database using SQLAlchemy and create an engine object \n",
    "   \n",
    "   `database_engine = SQLAlchemy.create_engine(url=database_url)`\n",
    "\n",
    "  - Use Pandas to load the data from the database \n",
    "\n",
    "    `your_dataset = pd.read_sql('SELECT * FROM your_table', engine=dataset_engine)`"
   ]
  },
  {
   "cell_type": "code",
   "execution_count": 6,
   "metadata": {},
   "outputs": [],
   "source": [
    "# Loading data from db\n",
    "\n",
    "products_dataset = pd.read_sql(\"SELECT * FROM jumia_products\", db_engine)"
   ]
  },
  {
   "cell_type": "code",
   "execution_count": 7,
   "metadata": {},
   "outputs": [
    {
     "data": {
      "text/html": [
       "<div>\n",
       "<style scoped>\n",
       "    .dataframe tbody tr th:only-of-type {\n",
       "        vertical-align: middle;\n",
       "    }\n",
       "\n",
       "    .dataframe tbody tr th {\n",
       "        vertical-align: top;\n",
       "    }\n",
       "\n",
       "    .dataframe thead th {\n",
       "        text-align: right;\n",
       "    }\n",
       "</style>\n",
       "<table border=\"1\" class=\"dataframe\">\n",
       "  <thead>\n",
       "    <tr style=\"text-align: right;\">\n",
       "      <th></th>\n",
       "      <th>product_name</th>\n",
       "      <th>category</th>\n",
       "      <th>current_price</th>\n",
       "      <th>old_price</th>\n",
       "    </tr>\n",
       "  </thead>\n",
       "  <tbody>\n",
       "    <tr>\n",
       "      <th>0</th>\n",
       "      <td>Vitron HTC4388FS - 43\" Smart Android Frameless...</td>\n",
       "      <td>electronics</td>\n",
       "      <td>19799</td>\n",
       "      <td>28599</td>\n",
       "    </tr>\n",
       "    <tr>\n",
       "      <th>1</th>\n",
       "      <td>Vitron V527 - 2.1 CH Multimedia Speaker, BT/US...</td>\n",
       "      <td>electronics</td>\n",
       "      <td>5450</td>\n",
       "      <td>7599</td>\n",
       "    </tr>\n",
       "    <tr>\n",
       "      <th>2</th>\n",
       "      <td>Vitron HTC3200S,32\"Inch Bluetooth Enabled Fram...</td>\n",
       "      <td>electronics</td>\n",
       "      <td>14399</td>\n",
       "      <td>18500</td>\n",
       "    </tr>\n",
       "    <tr>\n",
       "      <th>3</th>\n",
       "      <td>Amtec AM-02 2.1CH Multimedia Speaker BT/USB/SD...</td>\n",
       "      <td>electronics</td>\n",
       "      <td>5450</td>\n",
       "      <td>7500</td>\n",
       "    </tr>\n",
       "    <tr>\n",
       "      <th>4</th>\n",
       "      <td>Vitron V643 3.1Ch Bluetooth Speaker System, 12...</td>\n",
       "      <td>electronics</td>\n",
       "      <td>4749</td>\n",
       "      <td>5600</td>\n",
       "    </tr>\n",
       "  </tbody>\n",
       "</table>\n",
       "</div>"
      ],
      "text/plain": [
       "                                        product_name     category  \\\n",
       "0  Vitron HTC4388FS - 43\" Smart Android Frameless...  electronics   \n",
       "1  Vitron V527 - 2.1 CH Multimedia Speaker, BT/US...  electronics   \n",
       "2  Vitron HTC3200S,32\"Inch Bluetooth Enabled Fram...  electronics   \n",
       "3  Amtec AM-02 2.1CH Multimedia Speaker BT/USB/SD...  electronics   \n",
       "4  Vitron V643 3.1Ch Bluetooth Speaker System, 12...  electronics   \n",
       "\n",
       "  current_price old_price  \n",
       "0         19799     28599  \n",
       "1          5450      7599  \n",
       "2         14399     18500  \n",
       "3          5450      7500  \n",
       "4          4749      5600  "
      ]
     },
     "execution_count": 7,
     "metadata": {},
     "output_type": "execute_result"
    }
   ],
   "source": [
    "products_dataset.head()"
   ]
  },
  {
   "cell_type": "code",
   "execution_count": 8,
   "metadata": {},
   "outputs": [
    {
     "name": "stdout",
     "output_type": "stream",
     "text": [
      "<class 'pandas.core.frame.DataFrame'>\n",
      "RangeIndex: 16200 entries, 0 to 16199\n",
      "Data columns (total 4 columns):\n",
      " #   Column         Non-Null Count  Dtype \n",
      "---  ------         --------------  ----- \n",
      " 0   product_name   16200 non-null  object\n",
      " 1   category       16200 non-null  object\n",
      " 2   current_price  16200 non-null  object\n",
      " 3   old_price      16200 non-null  object\n",
      "dtypes: object(4)\n",
      "memory usage: 506.4+ KB\n"
     ]
    }
   ],
   "source": [
    "# Dataset info \n",
    "\n",
    "products_dataset.info()"
   ]
  },
  {
   "cell_type": "code",
   "execution_count": 13,
   "metadata": {},
   "outputs": [
    {
     "ename": "ValueError",
     "evalue": "could not convert string to float: '563 - 2999'",
     "output_type": "error",
     "traceback": [
      "\u001b[1;31m---------------------------------------------------------------------------\u001b[0m",
      "\u001b[1;31mValueError\u001b[0m                                Traceback (most recent call last)",
      "Cell \u001b[1;32mIn[13], line 3\u001b[0m\n\u001b[0;32m      1\u001b[0m \u001b[38;5;66;03m# Converting prices to float datatypes \u001b[39;00m\n\u001b[1;32m----> 3\u001b[0m products_dataset \u001b[38;5;241m=\u001b[39m \u001b[43mproducts_dataset\u001b[49m\u001b[38;5;241;43m.\u001b[39;49m\u001b[43mcurrent_price\u001b[49m\u001b[38;5;241;43m.\u001b[39;49m\u001b[43mastype\u001b[49m\u001b[43m(\u001b[49m\u001b[38;5;124;43m\"\u001b[39;49m\u001b[38;5;124;43mfloat\u001b[39;49m\u001b[38;5;124;43m\"\u001b[39;49m\u001b[43m)\u001b[49m\n",
      "File \u001b[1;32md:\\Analytics\\Boot Camp\\lux_bootcamp\\venv\\Lib\\site-packages\\pandas\\core\\generic.py:6643\u001b[0m, in \u001b[0;36mNDFrame.astype\u001b[1;34m(self, dtype, copy, errors)\u001b[0m\n\u001b[0;32m   6637\u001b[0m     results \u001b[38;5;241m=\u001b[39m [\n\u001b[0;32m   6638\u001b[0m         ser\u001b[38;5;241m.\u001b[39mastype(dtype, copy\u001b[38;5;241m=\u001b[39mcopy, errors\u001b[38;5;241m=\u001b[39merrors) \u001b[38;5;28;01mfor\u001b[39;00m _, ser \u001b[38;5;129;01min\u001b[39;00m \u001b[38;5;28mself\u001b[39m\u001b[38;5;241m.\u001b[39mitems()\n\u001b[0;32m   6639\u001b[0m     ]\n\u001b[0;32m   6641\u001b[0m \u001b[38;5;28;01melse\u001b[39;00m:\n\u001b[0;32m   6642\u001b[0m     \u001b[38;5;66;03m# else, only a single dtype is given\u001b[39;00m\n\u001b[1;32m-> 6643\u001b[0m     new_data \u001b[38;5;241m=\u001b[39m \u001b[38;5;28;43mself\u001b[39;49m\u001b[38;5;241;43m.\u001b[39;49m\u001b[43m_mgr\u001b[49m\u001b[38;5;241;43m.\u001b[39;49m\u001b[43mastype\u001b[49m\u001b[43m(\u001b[49m\u001b[43mdtype\u001b[49m\u001b[38;5;241;43m=\u001b[39;49m\u001b[43mdtype\u001b[49m\u001b[43m,\u001b[49m\u001b[43m \u001b[49m\u001b[43mcopy\u001b[49m\u001b[38;5;241;43m=\u001b[39;49m\u001b[43mcopy\u001b[49m\u001b[43m,\u001b[49m\u001b[43m \u001b[49m\u001b[43merrors\u001b[49m\u001b[38;5;241;43m=\u001b[39;49m\u001b[43merrors\u001b[49m\u001b[43m)\u001b[49m\n\u001b[0;32m   6644\u001b[0m     res \u001b[38;5;241m=\u001b[39m \u001b[38;5;28mself\u001b[39m\u001b[38;5;241m.\u001b[39m_constructor_from_mgr(new_data, axes\u001b[38;5;241m=\u001b[39mnew_data\u001b[38;5;241m.\u001b[39maxes)\n\u001b[0;32m   6645\u001b[0m     \u001b[38;5;28;01mreturn\u001b[39;00m res\u001b[38;5;241m.\u001b[39m__finalize__(\u001b[38;5;28mself\u001b[39m, method\u001b[38;5;241m=\u001b[39m\u001b[38;5;124m\"\u001b[39m\u001b[38;5;124mastype\u001b[39m\u001b[38;5;124m\"\u001b[39m)\n",
      "File \u001b[1;32md:\\Analytics\\Boot Camp\\lux_bootcamp\\venv\\Lib\\site-packages\\pandas\\core\\internals\\managers.py:430\u001b[0m, in \u001b[0;36mBaseBlockManager.astype\u001b[1;34m(self, dtype, copy, errors)\u001b[0m\n\u001b[0;32m    427\u001b[0m \u001b[38;5;28;01melif\u001b[39;00m using_copy_on_write():\n\u001b[0;32m    428\u001b[0m     copy \u001b[38;5;241m=\u001b[39m \u001b[38;5;28;01mFalse\u001b[39;00m\n\u001b[1;32m--> 430\u001b[0m \u001b[38;5;28;01mreturn\u001b[39;00m \u001b[38;5;28;43mself\u001b[39;49m\u001b[38;5;241;43m.\u001b[39;49m\u001b[43mapply\u001b[49m\u001b[43m(\u001b[49m\n\u001b[0;32m    431\u001b[0m \u001b[43m    \u001b[49m\u001b[38;5;124;43m\"\u001b[39;49m\u001b[38;5;124;43mastype\u001b[39;49m\u001b[38;5;124;43m\"\u001b[39;49m\u001b[43m,\u001b[49m\n\u001b[0;32m    432\u001b[0m \u001b[43m    \u001b[49m\u001b[43mdtype\u001b[49m\u001b[38;5;241;43m=\u001b[39;49m\u001b[43mdtype\u001b[49m\u001b[43m,\u001b[49m\n\u001b[0;32m    433\u001b[0m \u001b[43m    \u001b[49m\u001b[43mcopy\u001b[49m\u001b[38;5;241;43m=\u001b[39;49m\u001b[43mcopy\u001b[49m\u001b[43m,\u001b[49m\n\u001b[0;32m    434\u001b[0m \u001b[43m    \u001b[49m\u001b[43merrors\u001b[49m\u001b[38;5;241;43m=\u001b[39;49m\u001b[43merrors\u001b[49m\u001b[43m,\u001b[49m\n\u001b[0;32m    435\u001b[0m \u001b[43m    \u001b[49m\u001b[43musing_cow\u001b[49m\u001b[38;5;241;43m=\u001b[39;49m\u001b[43musing_copy_on_write\u001b[49m\u001b[43m(\u001b[49m\u001b[43m)\u001b[49m\u001b[43m,\u001b[49m\n\u001b[0;32m    436\u001b[0m \u001b[43m\u001b[49m\u001b[43m)\u001b[49m\n",
      "File \u001b[1;32md:\\Analytics\\Boot Camp\\lux_bootcamp\\venv\\Lib\\site-packages\\pandas\\core\\internals\\managers.py:363\u001b[0m, in \u001b[0;36mBaseBlockManager.apply\u001b[1;34m(self, f, align_keys, **kwargs)\u001b[0m\n\u001b[0;32m    361\u001b[0m         applied \u001b[38;5;241m=\u001b[39m b\u001b[38;5;241m.\u001b[39mapply(f, \u001b[38;5;241m*\u001b[39m\u001b[38;5;241m*\u001b[39mkwargs)\n\u001b[0;32m    362\u001b[0m     \u001b[38;5;28;01melse\u001b[39;00m:\n\u001b[1;32m--> 363\u001b[0m         applied \u001b[38;5;241m=\u001b[39m \u001b[38;5;28;43mgetattr\u001b[39;49m\u001b[43m(\u001b[49m\u001b[43mb\u001b[49m\u001b[43m,\u001b[49m\u001b[43m \u001b[49m\u001b[43mf\u001b[49m\u001b[43m)\u001b[49m\u001b[43m(\u001b[49m\u001b[38;5;241;43m*\u001b[39;49m\u001b[38;5;241;43m*\u001b[39;49m\u001b[43mkwargs\u001b[49m\u001b[43m)\u001b[49m\n\u001b[0;32m    364\u001b[0m     result_blocks \u001b[38;5;241m=\u001b[39m extend_blocks(applied, result_blocks)\n\u001b[0;32m    366\u001b[0m out \u001b[38;5;241m=\u001b[39m \u001b[38;5;28mtype\u001b[39m(\u001b[38;5;28mself\u001b[39m)\u001b[38;5;241m.\u001b[39mfrom_blocks(result_blocks, \u001b[38;5;28mself\u001b[39m\u001b[38;5;241m.\u001b[39maxes)\n",
      "File \u001b[1;32md:\\Analytics\\Boot Camp\\lux_bootcamp\\venv\\Lib\\site-packages\\pandas\\core\\internals\\blocks.py:758\u001b[0m, in \u001b[0;36mBlock.astype\u001b[1;34m(self, dtype, copy, errors, using_cow, squeeze)\u001b[0m\n\u001b[0;32m    755\u001b[0m         \u001b[38;5;28;01mraise\u001b[39;00m \u001b[38;5;167;01mValueError\u001b[39;00m(\u001b[38;5;124m\"\u001b[39m\u001b[38;5;124mCan not squeeze with more than one column.\u001b[39m\u001b[38;5;124m\"\u001b[39m)\n\u001b[0;32m    756\u001b[0m     values \u001b[38;5;241m=\u001b[39m values[\u001b[38;5;241m0\u001b[39m, :]  \u001b[38;5;66;03m# type: ignore[call-overload]\u001b[39;00m\n\u001b[1;32m--> 758\u001b[0m new_values \u001b[38;5;241m=\u001b[39m \u001b[43mastype_array_safe\u001b[49m\u001b[43m(\u001b[49m\u001b[43mvalues\u001b[49m\u001b[43m,\u001b[49m\u001b[43m \u001b[49m\u001b[43mdtype\u001b[49m\u001b[43m,\u001b[49m\u001b[43m \u001b[49m\u001b[43mcopy\u001b[49m\u001b[38;5;241;43m=\u001b[39;49m\u001b[43mcopy\u001b[49m\u001b[43m,\u001b[49m\u001b[43m \u001b[49m\u001b[43merrors\u001b[49m\u001b[38;5;241;43m=\u001b[39;49m\u001b[43merrors\u001b[49m\u001b[43m)\u001b[49m\n\u001b[0;32m    760\u001b[0m new_values \u001b[38;5;241m=\u001b[39m maybe_coerce_values(new_values)\n\u001b[0;32m    762\u001b[0m refs \u001b[38;5;241m=\u001b[39m \u001b[38;5;28;01mNone\u001b[39;00m\n",
      "File \u001b[1;32md:\\Analytics\\Boot Camp\\lux_bootcamp\\venv\\Lib\\site-packages\\pandas\\core\\dtypes\\astype.py:237\u001b[0m, in \u001b[0;36mastype_array_safe\u001b[1;34m(values, dtype, copy, errors)\u001b[0m\n\u001b[0;32m    234\u001b[0m     dtype \u001b[38;5;241m=\u001b[39m dtype\u001b[38;5;241m.\u001b[39mnumpy_dtype\n\u001b[0;32m    236\u001b[0m \u001b[38;5;28;01mtry\u001b[39;00m:\n\u001b[1;32m--> 237\u001b[0m     new_values \u001b[38;5;241m=\u001b[39m \u001b[43mastype_array\u001b[49m\u001b[43m(\u001b[49m\u001b[43mvalues\u001b[49m\u001b[43m,\u001b[49m\u001b[43m \u001b[49m\u001b[43mdtype\u001b[49m\u001b[43m,\u001b[49m\u001b[43m \u001b[49m\u001b[43mcopy\u001b[49m\u001b[38;5;241;43m=\u001b[39;49m\u001b[43mcopy\u001b[49m\u001b[43m)\u001b[49m\n\u001b[0;32m    238\u001b[0m \u001b[38;5;28;01mexcept\u001b[39;00m (\u001b[38;5;167;01mValueError\u001b[39;00m, \u001b[38;5;167;01mTypeError\u001b[39;00m):\n\u001b[0;32m    239\u001b[0m     \u001b[38;5;66;03m# e.g. _astype_nansafe can fail on object-dtype of strings\u001b[39;00m\n\u001b[0;32m    240\u001b[0m     \u001b[38;5;66;03m#  trying to convert to float\u001b[39;00m\n\u001b[0;32m    241\u001b[0m     \u001b[38;5;28;01mif\u001b[39;00m errors \u001b[38;5;241m==\u001b[39m \u001b[38;5;124m\"\u001b[39m\u001b[38;5;124mignore\u001b[39m\u001b[38;5;124m\"\u001b[39m:\n",
      "File \u001b[1;32md:\\Analytics\\Boot Camp\\lux_bootcamp\\venv\\Lib\\site-packages\\pandas\\core\\dtypes\\astype.py:182\u001b[0m, in \u001b[0;36mastype_array\u001b[1;34m(values, dtype, copy)\u001b[0m\n\u001b[0;32m    179\u001b[0m     values \u001b[38;5;241m=\u001b[39m values\u001b[38;5;241m.\u001b[39mastype(dtype, copy\u001b[38;5;241m=\u001b[39mcopy)\n\u001b[0;32m    181\u001b[0m \u001b[38;5;28;01melse\u001b[39;00m:\n\u001b[1;32m--> 182\u001b[0m     values \u001b[38;5;241m=\u001b[39m \u001b[43m_astype_nansafe\u001b[49m\u001b[43m(\u001b[49m\u001b[43mvalues\u001b[49m\u001b[43m,\u001b[49m\u001b[43m \u001b[49m\u001b[43mdtype\u001b[49m\u001b[43m,\u001b[49m\u001b[43m \u001b[49m\u001b[43mcopy\u001b[49m\u001b[38;5;241;43m=\u001b[39;49m\u001b[43mcopy\u001b[49m\u001b[43m)\u001b[49m\n\u001b[0;32m    184\u001b[0m \u001b[38;5;66;03m# in pandas we don't store numpy str dtypes, so convert to object\u001b[39;00m\n\u001b[0;32m    185\u001b[0m \u001b[38;5;28;01mif\u001b[39;00m \u001b[38;5;28misinstance\u001b[39m(dtype, np\u001b[38;5;241m.\u001b[39mdtype) \u001b[38;5;129;01mand\u001b[39;00m \u001b[38;5;28missubclass\u001b[39m(values\u001b[38;5;241m.\u001b[39mdtype\u001b[38;5;241m.\u001b[39mtype, \u001b[38;5;28mstr\u001b[39m):\n",
      "File \u001b[1;32md:\\Analytics\\Boot Camp\\lux_bootcamp\\venv\\Lib\\site-packages\\pandas\\core\\dtypes\\astype.py:133\u001b[0m, in \u001b[0;36m_astype_nansafe\u001b[1;34m(arr, dtype, copy, skipna)\u001b[0m\n\u001b[0;32m    129\u001b[0m     \u001b[38;5;28;01mraise\u001b[39;00m \u001b[38;5;167;01mValueError\u001b[39;00m(msg)\n\u001b[0;32m    131\u001b[0m \u001b[38;5;28;01mif\u001b[39;00m copy \u001b[38;5;129;01mor\u001b[39;00m arr\u001b[38;5;241m.\u001b[39mdtype \u001b[38;5;241m==\u001b[39m \u001b[38;5;28mobject\u001b[39m \u001b[38;5;129;01mor\u001b[39;00m dtype \u001b[38;5;241m==\u001b[39m \u001b[38;5;28mobject\u001b[39m:\n\u001b[0;32m    132\u001b[0m     \u001b[38;5;66;03m# Explicit copy, or required since NumPy can't view from / to object.\u001b[39;00m\n\u001b[1;32m--> 133\u001b[0m     \u001b[38;5;28;01mreturn\u001b[39;00m \u001b[43marr\u001b[49m\u001b[38;5;241;43m.\u001b[39;49m\u001b[43mastype\u001b[49m\u001b[43m(\u001b[49m\u001b[43mdtype\u001b[49m\u001b[43m,\u001b[49m\u001b[43m \u001b[49m\u001b[43mcopy\u001b[49m\u001b[38;5;241;43m=\u001b[39;49m\u001b[38;5;28;43;01mTrue\u001b[39;49;00m\u001b[43m)\u001b[49m\n\u001b[0;32m    135\u001b[0m \u001b[38;5;28;01mreturn\u001b[39;00m arr\u001b[38;5;241m.\u001b[39mastype(dtype, copy\u001b[38;5;241m=\u001b[39mcopy)\n",
      "\u001b[1;31mValueError\u001b[0m: could not convert string to float: '563 - 2999'"
     ]
    }
   ],
   "source": [
    "# Converting prices to float datatypes \n",
    "\n",
    "products_dataset = products_dataset.current_price.astype(\"float\")"
   ]
  },
  {
   "cell_type": "code",
   "execution_count": 27,
   "metadata": {},
   "outputs": [],
   "source": [
    "# Looks the prices columns have problematic values, as indicated by the error above\n",
    "# We can address these values as follows \n",
    "\n",
    "products_dataset = products_dataset[~products_dataset.current_price.str.contains(\"-\", na=False)] \n",
    "\n",
    "products_dataset = products_dataset[~products_dataset.old_price.str.contains(\"-\", na=False)]"
   ]
  },
  {
   "cell_type": "code",
   "execution_count": 30,
   "metadata": {},
   "outputs": [
    {
     "name": "stdout",
     "output_type": "stream",
     "text": [
      "<class 'pandas.core.frame.DataFrame'>\n",
      "Index: 15101 entries, 0 to 16199\n",
      "Data columns (total 4 columns):\n",
      " #   Column         Non-Null Count  Dtype  \n",
      "---  ------         --------------  -----  \n",
      " 0   product_name   15101 non-null  object \n",
      " 1   category       15101 non-null  object \n",
      " 2   current_price  15101 non-null  float64\n",
      " 3   old_price      15101 non-null  float64\n",
      "dtypes: float64(2), object(2)\n",
      "memory usage: 589.9+ KB\n"
     ]
    }
   ],
   "source": [
    "# Datatype conversions \n",
    "\n",
    "products_dataset[\"current_price\"] = products_dataset.current_price.astype(\"float\") \n",
    "\n",
    "products_dataset[\"old_price\"] = products_dataset.old_price.astype(\"float\") \n",
    "\n",
    "products_dataset.info()"
   ]
  },
  {
   "cell_type": "code",
   "execution_count": null,
   "metadata": {},
   "outputs": [],
   "source": []
  }
 ],
 "metadata": {
  "kernelspec": {
   "display_name": "venv",
   "language": "python",
   "name": "python3"
  },
  "language_info": {
   "codemirror_mode": {
    "name": "ipython",
    "version": 3
   },
   "file_extension": ".py",
   "mimetype": "text/x-python",
   "name": "python",
   "nbconvert_exporter": "python",
   "pygments_lexer": "ipython3",
   "version": "3.11.2"
  }
 },
 "nbformat": 4,
 "nbformat_minor": 2
}
